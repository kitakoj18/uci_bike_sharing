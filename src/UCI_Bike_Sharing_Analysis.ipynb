{
 "cells": [
  {
   "cell_type": "markdown",
   "metadata": {},
   "source": [
    "## UCI Bike Sharing Dataset"
   ]
  },
  {
   "cell_type": "code",
   "execution_count": 4,
   "metadata": {},
   "outputs": [],
   "source": [
    "import numpy as np\n",
    "import pandas as pd\n",
    "import matplotlib.pyplot as plt\n",
    "import seaborn as sns\n",
    "from scipy.stats import chisquare, ttest_ind\n",
    "\n",
    "import itertools\n",
    "\n",
    "%matplotlib inline\n",
    "\n",
    "import warnings\n",
    "warnings.filterwarnings('ignore')"
   ]
  },
  {
   "cell_type": "code",
   "execution_count": 5,
   "metadata": {},
   "outputs": [],
   "source": [
    "hrsdf = pd.read_csv('../data/hour.csv')\n",
    "daysdf = pd.read_csv('../data/day.csv')"
   ]
  },
  {
   "cell_type": "markdown",
   "metadata": {},
   "source": [
    "## Analysis Using Days Data"
   ]
  },
  {
   "cell_type": "code",
   "execution_count": 6,
   "metadata": {
    "scrolled": true
   },
   "outputs": [
    {
     "data": {
      "text/html": [
       "<div>\n",
       "<style scoped>\n",
       "    .dataframe tbody tr th:only-of-type {\n",
       "        vertical-align: middle;\n",
       "    }\n",
       "\n",
       "    .dataframe tbody tr th {\n",
       "        vertical-align: top;\n",
       "    }\n",
       "\n",
       "    .dataframe thead th {\n",
       "        text-align: right;\n",
       "    }\n",
       "</style>\n",
       "<table border=\"1\" class=\"dataframe\">\n",
       "  <thead>\n",
       "    <tr style=\"text-align: right;\">\n",
       "      <th></th>\n",
       "      <th>instant</th>\n",
       "      <th>dteday</th>\n",
       "      <th>season</th>\n",
       "      <th>yr</th>\n",
       "      <th>mnth</th>\n",
       "      <th>holiday</th>\n",
       "      <th>weekday</th>\n",
       "      <th>workingday</th>\n",
       "      <th>weathersit</th>\n",
       "      <th>temp</th>\n",
       "      <th>atemp</th>\n",
       "      <th>hum</th>\n",
       "      <th>windspeed</th>\n",
       "      <th>casual</th>\n",
       "      <th>registered</th>\n",
       "      <th>cnt</th>\n",
       "    </tr>\n",
       "  </thead>\n",
       "  <tbody>\n",
       "    <tr>\n",
       "      <th>0</th>\n",
       "      <td>1</td>\n",
       "      <td>2011-01-01</td>\n",
       "      <td>1</td>\n",
       "      <td>0</td>\n",
       "      <td>1</td>\n",
       "      <td>0</td>\n",
       "      <td>6</td>\n",
       "      <td>0</td>\n",
       "      <td>2</td>\n",
       "      <td>0.344167</td>\n",
       "      <td>0.363625</td>\n",
       "      <td>0.805833</td>\n",
       "      <td>0.160446</td>\n",
       "      <td>331</td>\n",
       "      <td>654</td>\n",
       "      <td>985</td>\n",
       "    </tr>\n",
       "    <tr>\n",
       "      <th>1</th>\n",
       "      <td>2</td>\n",
       "      <td>2011-01-02</td>\n",
       "      <td>1</td>\n",
       "      <td>0</td>\n",
       "      <td>1</td>\n",
       "      <td>0</td>\n",
       "      <td>0</td>\n",
       "      <td>0</td>\n",
       "      <td>2</td>\n",
       "      <td>0.363478</td>\n",
       "      <td>0.353739</td>\n",
       "      <td>0.696087</td>\n",
       "      <td>0.248539</td>\n",
       "      <td>131</td>\n",
       "      <td>670</td>\n",
       "      <td>801</td>\n",
       "    </tr>\n",
       "    <tr>\n",
       "      <th>2</th>\n",
       "      <td>3</td>\n",
       "      <td>2011-01-03</td>\n",
       "      <td>1</td>\n",
       "      <td>0</td>\n",
       "      <td>1</td>\n",
       "      <td>0</td>\n",
       "      <td>1</td>\n",
       "      <td>1</td>\n",
       "      <td>1</td>\n",
       "      <td>0.196364</td>\n",
       "      <td>0.189405</td>\n",
       "      <td>0.437273</td>\n",
       "      <td>0.248309</td>\n",
       "      <td>120</td>\n",
       "      <td>1229</td>\n",
       "      <td>1349</td>\n",
       "    </tr>\n",
       "    <tr>\n",
       "      <th>3</th>\n",
       "      <td>4</td>\n",
       "      <td>2011-01-04</td>\n",
       "      <td>1</td>\n",
       "      <td>0</td>\n",
       "      <td>1</td>\n",
       "      <td>0</td>\n",
       "      <td>2</td>\n",
       "      <td>1</td>\n",
       "      <td>1</td>\n",
       "      <td>0.200000</td>\n",
       "      <td>0.212122</td>\n",
       "      <td>0.590435</td>\n",
       "      <td>0.160296</td>\n",
       "      <td>108</td>\n",
       "      <td>1454</td>\n",
       "      <td>1562</td>\n",
       "    </tr>\n",
       "    <tr>\n",
       "      <th>4</th>\n",
       "      <td>5</td>\n",
       "      <td>2011-01-05</td>\n",
       "      <td>1</td>\n",
       "      <td>0</td>\n",
       "      <td>1</td>\n",
       "      <td>0</td>\n",
       "      <td>3</td>\n",
       "      <td>1</td>\n",
       "      <td>1</td>\n",
       "      <td>0.226957</td>\n",
       "      <td>0.229270</td>\n",
       "      <td>0.436957</td>\n",
       "      <td>0.186900</td>\n",
       "      <td>82</td>\n",
       "      <td>1518</td>\n",
       "      <td>1600</td>\n",
       "    </tr>\n",
       "  </tbody>\n",
       "</table>\n",
       "</div>"
      ],
      "text/plain": [
       "   instant      dteday  season  yr  mnth  holiday  weekday  workingday  \\\n",
       "0        1  2011-01-01       1   0     1        0        6           0   \n",
       "1        2  2011-01-02       1   0     1        0        0           0   \n",
       "2        3  2011-01-03       1   0     1        0        1           1   \n",
       "3        4  2011-01-04       1   0     1        0        2           1   \n",
       "4        5  2011-01-05       1   0     1        0        3           1   \n",
       "\n",
       "   weathersit      temp     atemp       hum  windspeed  casual  registered  \\\n",
       "0           2  0.344167  0.363625  0.805833   0.160446     331         654   \n",
       "1           2  0.363478  0.353739  0.696087   0.248539     131         670   \n",
       "2           1  0.196364  0.189405  0.437273   0.248309     120        1229   \n",
       "3           1  0.200000  0.212122  0.590435   0.160296     108        1454   \n",
       "4           1  0.226957  0.229270  0.436957   0.186900      82        1518   \n",
       "\n",
       "    cnt  \n",
       "0   985  \n",
       "1   801  \n",
       "2  1349  \n",
       "3  1562  \n",
       "4  1600  "
      ]
     },
     "execution_count": 6,
     "metadata": {},
     "output_type": "execute_result"
    }
   ],
   "source": [
    "daysdf.head()"
   ]
  },
  {
   "cell_type": "markdown",
   "metadata": {},
   "source": [
    "No missing entries and all datatypes seem to match the variable appropriately so we don't need to worry about any weird values that might represent nulls"
   ]
  },
  {
   "cell_type": "code",
   "execution_count": 7,
   "metadata": {},
   "outputs": [
    {
     "name": "stdout",
     "output_type": "stream",
     "text": [
      "<class 'pandas.core.frame.DataFrame'>\n",
      "RangeIndex: 731 entries, 0 to 730\n",
      "Data columns (total 16 columns):\n",
      "instant       731 non-null int64\n",
      "dteday        731 non-null object\n",
      "season        731 non-null int64\n",
      "yr            731 non-null int64\n",
      "mnth          731 non-null int64\n",
      "holiday       731 non-null int64\n",
      "weekday       731 non-null int64\n",
      "workingday    731 non-null int64\n",
      "weathersit    731 non-null int64\n",
      "temp          731 non-null float64\n",
      "atemp         731 non-null float64\n",
      "hum           731 non-null float64\n",
      "windspeed     731 non-null float64\n",
      "casual        731 non-null int64\n",
      "registered    731 non-null int64\n",
      "cnt           731 non-null int64\n",
      "dtypes: float64(4), int64(11), object(1)\n",
      "memory usage: 91.4+ KB\n"
     ]
    }
   ],
   "source": [
    "daysdf.info()"
   ]
  },
  {
   "cell_type": "code",
   "execution_count": 8,
   "metadata": {},
   "outputs": [
    {
     "data": {
      "text/plain": [
       "weekday\n",
       "0    105\n",
       "1    105\n",
       "2    104\n",
       "3    104\n",
       "4    104\n",
       "5    104\n",
       "6    105\n",
       "dtype: int64"
      ]
     },
     "execution_count": 8,
     "metadata": {},
     "output_type": "execute_result"
    }
   ],
   "source": [
    "daysdf.groupby('weekday').size()"
   ]
  },
  {
   "cell_type": "markdown",
   "metadata": {},
   "source": [
    "Comparing the distributions of rental counts between each day of the week, there's not a single day that pops out that might have more or less rentals than other days. "
   ]
  },
  {
   "cell_type": "code",
   "execution_count": 9,
   "metadata": {},
   "outputs": [
    {
     "data": {
      "text/plain": [
       "<matplotlib.axes._subplots.AxesSubplot at 0x117676810>"
      ]
     },
     "execution_count": 9,
     "metadata": {},
     "output_type": "execute_result"
    },
    {
     "data": {
      "image/png": "[encoded data removed]",
      "text/plain": [
       "<matplotlib.figure.Figure at 0x1134d1f50>"
      ]
     },
     "metadata": {},
     "output_type": "display_data"
    }
   ],
   "source": [
    "sns.boxplot(x = daysdf['weekday'], y = daysdf['cnt'])"
   ]
  },
  {
   "cell_type": "markdown",
   "metadata": {},
   "source": [
    "Comparing months on the otherhand, it appears that rentals increase as the year progresses into spring and summer then starts to decrease again when fall and winter months approach. "
   ]
  },
  {
   "cell_type": "code",
   "execution_count": 10,
   "metadata": {},
   "outputs": [
    {
     "data": {
      "text/plain": [
       "<matplotlib.axes._subplots.AxesSubplot at 0x1176d6c90>"
      ]
     },
     "execution_count": 10,
     "metadata": {},
     "output_type": "execute_result"
    },
    {
     "data": {
      "image/png": "[encoded data removed]",
      "text/plain": [
       "<matplotlib.figure.Figure at 0x11763bf50>"
      ]
     },
     "metadata": {},
     "output_type": "display_data"
    }
   ],
   "source": [
    "sns.boxplot(x = daysdf['mnth'], y = daysdf['cnt'])"
   ]
  },
  {
   "cell_type": "markdown",
   "metadata": {},
   "source": [
    "But, let's not make conclusions based off of only what we see...\n",
    "\n",
    "Since there are 12 months to compare, it doesn't make sense to do 66 (12 choose 2) pairwise comparisons that would most likely always cause us to fail to reject the null if we were to use the Bonferroni correction. I will later use some pairwise hypothesis tests with significance level corrections for some other comparisons. For comparing the months, however, I will use the Chi-Squared test to see if there's statistical significance in higher rentals during the middle of the year than the tails as we saw in the graph above.\n",
    "\n",
    "If there were no months that had more rentals than others, we would expect that the number of rentals would be around the same each month. Assuming the rental count per month is the same, we want to calculate how likely it is, or the probability, of getting the total counts per month that we observed by chance. Luckily the Chi-Squared test does this all for us. \n",
    "\n",
    "Using Scipy's chisquare function, the calculated p-value is 0. That is, if rental count was the same per month, seeing what we saw in the prior graph above would have been an extremely unlikely observation. So we can say with statistical significance that rental counts increase through the first half of the year then start decrease again during the second half."
   ]
  },
  {
   "cell_type": "code",
   "execution_count": 11,
   "metadata": {},
   "outputs": [
    {
     "data": {
      "text/plain": [
       "Power_divergenceResult(statistic=247249.3223332733, pvalue=0.0)"
      ]
     },
     "execution_count": 11,
     "metadata": {},
     "output_type": "execute_result"
    }
   ],
   "source": [
    "rentals_per_month = daysdf.groupby('mnth')['cnt'].sum()\n",
    "chisquare(rentals_per_month)"
   ]
  },
  {
   "cell_type": "markdown",
   "metadata": {},
   "source": [
    "Great. Since we saw an increase in bike rentals during summer months, let's look into and compare the total rentals per season in the two years and see if there's any significance there.\n",
    "\n",
    "According to the info accompanying the dataset, the mapping of the values in the season column is as follows: \n",
    "<br>1 is Spring, 2 is Summer, 3 is Fall, and 4 is Winter\n",
    "\n",
    "However, I don't think this mapping is correct. Looking at entries in 'winter', 'spring', 'summer', and 'fall' months, I believe 1 is Winter, 2 is Spring, 3 is Summer, and 4 is Fall. I've contacted the person listed as point of contact for this dataset to confirm but for now, I will assume that this is the correct maping"
   ]
  },
  {
   "cell_type": "code",
   "execution_count": 12,
   "metadata": {},
   "outputs": [
    {
     "name": "stdout",
     "output_type": "stream",
     "text": [
      "14    1\n",
      "Name: season, dtype: int64\n",
      "104    2\n",
      "Name: season, dtype: int64\n",
      "195    3\n",
      "Name: season, dtype: int64\n",
      "287    4\n",
      "Name: season, dtype: int64\n"
     ]
    }
   ],
   "source": [
    "print(daysdf[daysdf['dteday'] == '2011-01-15']['season'])\n",
    "print(daysdf[daysdf['dteday'] == '2011-04-15']['season'])\n",
    "print(daysdf[daysdf['dteday'] == '2011-07-15']['season'])\n",
    "print(daysdf[daysdf['dteday'] == '2011-10-15']['season'])"
   ]
  },
  {
   "cell_type": "markdown",
   "metadata": {},
   "source": [
    "Ok, if the mapping I stated above is correct, I can say what I was going to say! \n",
    "\n",
    "As expected, rentals during the winter season seem to more inactive than the other three seasons. Or at least that's what we have observed..."
   ]
  },
  {
   "cell_type": "code",
   "execution_count": 13,
   "metadata": {},
   "outputs": [
    {
     "data": {
      "text/plain": [
       "<matplotlib.axes._subplots.AxesSubplot at 0x117b02a50>"
      ]
     },
     "execution_count": 13,
     "metadata": {},
     "output_type": "execute_result"
    },
    {
     "data": {
      "image/png": "[encoded data removed]",
      "text/plain": [
       "<matplotlib.figure.Figure at 0x11763b0d0>"
      ]
     },
     "metadata": {},
     "output_type": "display_data"
    }
   ],
   "source": [
    "sns.boxplot(x = daysdf['season'], y = daysdf['cnt'])"
   ]
  },
  {
   "cell_type": "markdown",
   "metadata": {},
   "source": [
    "It's a little hard to tell if there will be any significant difference between non-winter seasons. Since 6 (4 choose 2) pairwise comparisons isn't too daunting, I'm going to perform 6 separate hypothesis tests. For each test, the null hypothesis will be that the mean rental counts between the two seasons is the same and the alternative hypothesis will be that the mean rental counts are not the same, giving us a two-tailed test.\n",
    "\n",
    "Our assumptions in regards to the Central Limit Theorem are met. That is, our sample sizes for each season are greater than 30 so the distributions of our means should approximately follow the Normal Distribution. Since scipy makes it easy for us, I'm still going to use the built in t-test to compare the means (with a large enough sample size, the t-test is basically a z-test). \n",
    "\n",
    "Lastly, Because the chances of making a Type I (false positive) error increases, we want to make a correction to our significance level based off how many tests we're doing. The Bonferroni Correction is a very conservative correction but since we have 6 tests, our adjusted significance level won't be cut down drastically. "
   ]
  },
  {
   "cell_type": "code",
   "execution_count": 14,
   "metadata": {},
   "outputs": [
    {
     "data": {
      "text/plain": [
       "season\n",
       "1    181\n",
       "2    184\n",
       "3    188\n",
       "4    178\n",
       "dtype: int64"
      ]
     },
     "execution_count": 14,
     "metadata": {},
     "output_type": "execute_result"
    }
   ],
   "source": [
    "daysdf.groupby('season').size()"
   ]
  },
  {
   "cell_type": "markdown",
   "metadata": {},
   "source": [
    "Using the Bonferroni Correction, there's statistical significance in mean rental differences between seasons for each pair except for between Spring and Fall."
   ]
  },
  {
   "cell_type": "code",
   "execution_count": 15,
   "metadata": {},
   "outputs": [
    {
     "name": "stdout",
     "output_type": "stream",
     "text": [
      "Difference in mean rental counts between season 1 and season 2 is statistically significant with p-value = 1.52848222714e-38\n",
      "Difference in mean rental counts between season 1 and season 3 is statistically significant with p-value = 2.13407296852e-62\n",
      "Difference in mean rental counts between season 1 and season 4 is statistically significant with p-value = 1.20220671752e-31\n",
      "Difference in mean rental counts between season 2 and season 3 is statistically significant with p-value = 8.41150981151e-05\n",
      "Difference in mean rental counts between season 2 and season 4 is NOT statistically significant with p-value = 0.139742317895\n",
      "Difference in mean rental counts between season 3 and season 4 is statistically significant with p-value = 5.7789091515e-08\n"
     ]
    }
   ],
   "source": [
    "seasons = [1, 2, 3, 4]\n",
    "season_pairs = itertools.combinations(seasons, 2)\n",
    "sign_level = 0.05 / 6\n",
    "\n",
    "for pair in season_pairs:\n",
    "    season_1 = pair[0]\n",
    "    season_2 = pair[1]\n",
    "    s1_vals = daysdf[daysdf['season'] == season_1]['cnt']\n",
    "    s2_vals = daysdf[daysdf['season'] == season_2]['cnt']\n",
    "    \n",
    "    t_stat, p_val = ttest_ind(s1_vals, s2_vals)\n",
    "    \n",
    "    if p_val < sign_level:\n",
    "        print('Difference in mean rental counts between season {} and season {} is statistically significant with p-value = {}'\\\n",
    "                  .format(str(season_1), str(season_2), p_val))\n",
    "        \n",
    "    else:\n",
    "        print('Difference in mean rental counts between season {} and season {} is NOT statistically significant with p-value = {}' \\\n",
    "                  .format(str(season_1), str(season_2), p_val))\n"
   ]
  },
  {
   "cell_type": "markdown",
   "metadata": {},
   "source": [
    "Let's look at if there's a difference in rentals between workdays (1) vs not a workday (0, defined as a weekend or a holiday). We have enough workday and non-workday samples to conduct z-test but again will use Scipy's t-test."
   ]
  },
  {
   "cell_type": "code",
   "execution_count": 16,
   "metadata": {},
   "outputs": [
    {
     "data": {
      "text/plain": [
       "workingday\n",
       "0    231\n",
       "1    500\n",
       "dtype: int64"
      ]
     },
     "execution_count": 16,
     "metadata": {},
     "output_type": "execute_result"
    }
   ],
   "source": [
    "daysdf.groupby('workingday').size()"
   ]
  },
  {
   "cell_type": "markdown",
   "metadata": {},
   "source": [
    "Doesn't look too different..."
   ]
  },
  {
   "cell_type": "code",
   "execution_count": 17,
   "metadata": {},
   "outputs": [
    {
     "data": {
      "text/plain": [
       "<matplotlib.axes._subplots.AxesSubplot at 0x117d4cd10>"
      ]
     },
     "execution_count": 17,
     "metadata": {},
     "output_type": "execute_result"
    },
    {
     "data": {
      "image/png": "[encoded data removed]",
      "text/plain": [
       "<matplotlib.figure.Figure at 0x117e9f950>"
      ]
     },
     "metadata": {},
     "output_type": "display_data"
    }
   ],
   "source": [
    "sns.boxplot(x = daysdf['workingday'], y = daysdf['cnt'])"
   ]
  },
  {
   "cell_type": "markdown",
   "metadata": {},
   "source": [
    "Performing the hypothesis test, there is not a statistical significance between the number of bikes rented on workdays vs. non-workdays"
   ]
  },
  {
   "cell_type": "code",
   "execution_count": 18,
   "metadata": {},
   "outputs": [
    {
     "name": "stdout",
     "output_type": "stream",
     "text": [
      "0.0984949616002\n"
     ]
    }
   ],
   "source": [
    "s1 = daysdf[daysdf['workingday'] == 1]['cnt']\n",
    "s2 = daysdf[daysdf['workingday'] == 0]['cnt']\n",
    "\n",
    "t_stat, p_val = ttest_ind(s1, s2)\n",
    "print(p_val)"
   ]
  },
  {
   "cell_type": "markdown",
   "metadata": {},
   "source": [
    "## Event Detection"
   ]
  },
  {
   "cell_type": "markdown",
   "metadata": {},
   "source": [
    "The description included with the data points out using the data for event detection. Even though there's information from 2011 and 2012, I did some quick research on big weather-related events that occurred in the area in and around Washington D.C. in 2012. \n",
    "\n",
    "Here are the top 5 weather events that happened:\n",
    "\n",
    "1: March had record warmth with temperatures frequently reaching 70's and 80's (pretty good biking weather!)\n",
    "<br>2: Tornado outbreak on June 1 (12 total)\n",
    "<br>3: Superstorm / Hurricane Sandy in Late October\n",
    "<br>4: More record heat in July (is there a peak in temperatures where it gets too hot and deters people from renting bikes?)\n",
    "<br>5: June 29 derecho (never heard of but apparently is a line of storms)\n",
    "\n",
    "I'm going to look at a couple of these events - numbers 2 and 4..."
   ]
  },
  {
   "cell_type": "code",
   "execution_count": 19,
   "metadata": {},
   "outputs": [
    {
     "data": {
      "text/html": [
       "<div>\n",
       "<style scoped>\n",
       "    .dataframe tbody tr th:only-of-type {\n",
       "        vertical-align: middle;\n",
       "    }\n",
       "\n",
       "    .dataframe tbody tr th {\n",
       "        vertical-align: top;\n",
       "    }\n",
       "\n",
       "    .dataframe thead th {\n",
       "        text-align: right;\n",
       "    }\n",
       "</style>\n",
       "<table border=\"1\" class=\"dataframe\">\n",
       "  <thead>\n",
       "    <tr style=\"text-align: right;\">\n",
       "      <th></th>\n",
       "      <th>instant</th>\n",
       "      <th>dteday</th>\n",
       "      <th>season</th>\n",
       "      <th>yr</th>\n",
       "      <th>mnth</th>\n",
       "      <th>holiday</th>\n",
       "      <th>weekday</th>\n",
       "      <th>workingday</th>\n",
       "      <th>weathersit</th>\n",
       "      <th>temp</th>\n",
       "      <th>atemp</th>\n",
       "      <th>hum</th>\n",
       "      <th>windspeed</th>\n",
       "      <th>casual</th>\n",
       "      <th>registered</th>\n",
       "      <th>cnt</th>\n",
       "    </tr>\n",
       "  </thead>\n",
       "  <tbody>\n",
       "    <tr>\n",
       "      <th>365</th>\n",
       "      <td>366</td>\n",
       "      <td>2012-01-01</td>\n",
       "      <td>1</td>\n",
       "      <td>1</td>\n",
       "      <td>1</td>\n",
       "      <td>0</td>\n",
       "      <td>0</td>\n",
       "      <td>0</td>\n",
       "      <td>1</td>\n",
       "      <td>0.370000</td>\n",
       "      <td>0.375621</td>\n",
       "      <td>0.692500</td>\n",
       "      <td>0.192167</td>\n",
       "      <td>686</td>\n",
       "      <td>1608</td>\n",
       "      <td>2294</td>\n",
       "    </tr>\n",
       "    <tr>\n",
       "      <th>366</th>\n",
       "      <td>367</td>\n",
       "      <td>2012-01-02</td>\n",
       "      <td>1</td>\n",
       "      <td>1</td>\n",
       "      <td>1</td>\n",
       "      <td>1</td>\n",
       "      <td>1</td>\n",
       "      <td>0</td>\n",
       "      <td>1</td>\n",
       "      <td>0.273043</td>\n",
       "      <td>0.252304</td>\n",
       "      <td>0.381304</td>\n",
       "      <td>0.329665</td>\n",
       "      <td>244</td>\n",
       "      <td>1707</td>\n",
       "      <td>1951</td>\n",
       "    </tr>\n",
       "    <tr>\n",
       "      <th>367</th>\n",
       "      <td>368</td>\n",
       "      <td>2012-01-03</td>\n",
       "      <td>1</td>\n",
       "      <td>1</td>\n",
       "      <td>1</td>\n",
       "      <td>0</td>\n",
       "      <td>2</td>\n",
       "      <td>1</td>\n",
       "      <td>1</td>\n",
       "      <td>0.150000</td>\n",
       "      <td>0.126275</td>\n",
       "      <td>0.441250</td>\n",
       "      <td>0.365671</td>\n",
       "      <td>89</td>\n",
       "      <td>2147</td>\n",
       "      <td>2236</td>\n",
       "    </tr>\n",
       "    <tr>\n",
       "      <th>368</th>\n",
       "      <td>369</td>\n",
       "      <td>2012-01-04</td>\n",
       "      <td>1</td>\n",
       "      <td>1</td>\n",
       "      <td>1</td>\n",
       "      <td>0</td>\n",
       "      <td>3</td>\n",
       "      <td>1</td>\n",
       "      <td>2</td>\n",
       "      <td>0.107500</td>\n",
       "      <td>0.119337</td>\n",
       "      <td>0.414583</td>\n",
       "      <td>0.184700</td>\n",
       "      <td>95</td>\n",
       "      <td>2273</td>\n",
       "      <td>2368</td>\n",
       "    </tr>\n",
       "    <tr>\n",
       "      <th>369</th>\n",
       "      <td>370</td>\n",
       "      <td>2012-01-05</td>\n",
       "      <td>1</td>\n",
       "      <td>1</td>\n",
       "      <td>1</td>\n",
       "      <td>0</td>\n",
       "      <td>4</td>\n",
       "      <td>1</td>\n",
       "      <td>1</td>\n",
       "      <td>0.265833</td>\n",
       "      <td>0.278412</td>\n",
       "      <td>0.524167</td>\n",
       "      <td>0.129987</td>\n",
       "      <td>140</td>\n",
       "      <td>3132</td>\n",
       "      <td>3272</td>\n",
       "    </tr>\n",
       "  </tbody>\n",
       "</table>\n",
       "</div>"
      ],
      "text/plain": [
       "     instant      dteday  season  yr  mnth  holiday  weekday  workingday  \\\n",
       "365      366  2012-01-01       1   1     1        0        0           0   \n",
       "366      367  2012-01-02       1   1     1        1        1           0   \n",
       "367      368  2012-01-03       1   1     1        0        2           1   \n",
       "368      369  2012-01-04       1   1     1        0        3           1   \n",
       "369      370  2012-01-05       1   1     1        0        4           1   \n",
       "\n",
       "     weathersit      temp     atemp       hum  windspeed  casual  registered  \\\n",
       "365           1  0.370000  0.375621  0.692500   0.192167     686        1608   \n",
       "366           1  0.273043  0.252304  0.381304   0.329665     244        1707   \n",
       "367           1  0.150000  0.126275  0.441250   0.365671      89        2147   \n",
       "368           2  0.107500  0.119337  0.414583   0.184700      95        2273   \n",
       "369           1  0.265833  0.278412  0.524167   0.129987     140        3132   \n",
       "\n",
       "      cnt  \n",
       "365  2294  \n",
       "366  1951  \n",
       "367  2236  \n",
       "368  2368  \n",
       "369  3272  "
      ]
     },
     "execution_count": 19,
     "metadata": {},
     "output_type": "execute_result"
    }
   ],
   "source": [
    "days_12 = daysdf[daysdf['yr'] == 1]\n",
    "days_12.head()"
   ]
  },
  {
   "cell_type": "markdown",
   "metadata": {},
   "source": [
    "### Tornado outbreak on June 1\n",
    "\n",
    "There's definitely a low peak on June 1. Even though there were some other drops in the middle and at the end of the month (might want to look into if there were any events in D.C. that happened to cause these decreases) June 1st definitely had the least rentals in the whole month. "
   ]
  },
  {
   "cell_type": "code",
   "execution_count": 33,
   "metadata": {},
   "outputs": [
    {
     "data": {
      "text/plain": [
       "<matplotlib.text.Text at 0x11c6f3a50>"
      ]
     },
     "execution_count": 33,
     "metadata": {},
     "output_type": "execute_result"
    },
    {
     "data": {
      "image/png": "[encoded data removed]",
      "text/plain": [
       "<matplotlib.figure.Figure at 0x11d86ad50>"
      ]
     },
     "metadata": {},
     "output_type": "display_data"
    }
   ],
   "source": [
    "plt.figure(figsize=(15,10))\n",
    "plt.xticks(rotation=90)\n",
    "sns.barplot(x = days_12[days_12['mnth'] == 6]['dteday'], y = days_12[days_12['mnth'] == 6]['cnt'])\n",
    "plt.title('June Bike Rental Counts', fontdict = {'fontsize':20, 'fontweight':'bold'})\n",
    "plt.xlabel('Date', fontdict = {'fontsize':16, 'fontweight':'bold'})\n",
    "plt.ylabel('Count', fontdict = {'fontsize':16, 'fontweight':'bold'})"
   ]
  },
  {
   "cell_type": "markdown",
   "metadata": {},
   "source": [
    "### Record heat in July"
   ]
  },
  {
   "cell_type": "markdown",
   "metadata": {},
   "source": [
    "Comparing July to what we saw in June and also to rentals in August, to the naked eyed it looks like there's a lot more variability in count during the hot month. August seems pretty variable too but that variability is more structured; rentals increase, experience a drop and increase again, and this happens multiple times during the month. "
   ]
  },
  {
   "cell_type": "code",
   "execution_count": 34,
   "metadata": {},
   "outputs": [
    {
     "data": {
      "text/plain": [
       "<matplotlib.text.Text at 0x11de8b5d0>"
      ]
     },
     "execution_count": 34,
     "metadata": {},
     "output_type": "execute_result"
    },
    {
     "data": {
      "image/png": "[encoded data removed]",
      "text/plain": [
       "<matplotlib.figure.Figure at 0x11dca8950>"
      ]
     },
     "metadata": {},
     "output_type": "display_data"
    }
   ],
   "source": [
    "plt.figure(figsize=(15,10))\n",
    "plt.xticks(rotation=90)\n",
    "sns.barplot(x = days_12[days_12['mnth'] == 7]['dteday'], y = days_12[days_12['mnth'] == 7]['cnt'])\n",
    "plt.title('July Bike Rental Counts', fontdict = {'fontsize':20, 'fontweight':'bold'})\n",
    "plt.xlabel('Date', fontdict = {'fontsize':16, 'fontweight':'bold'})\n",
    "plt.ylabel('Count', fontdict = {'fontsize':16, 'fontweight':'bold'})"
   ]
  },
  {
   "cell_type": "code",
   "execution_count": 35,
   "metadata": {},
   "outputs": [
    {
     "data": {
      "text/plain": [
       "<matplotlib.text.Text at 0x11d0a4490>"
      ]
     },
     "execution_count": 35,
     "metadata": {},
     "output_type": "execute_result"
    },
    {
     "data": {
      "image/png": "[encoded data removed]",
      "text/plain": [
       "<matplotlib.figure.Figure at 0x11e1c7250>"
      ]
     },
     "metadata": {},
     "output_type": "display_data"
    }
   ],
   "source": [
    "plt.figure(figsize=(15,10))\n",
    "plt.xticks(rotation=90)\n",
    "sns.barplot(x = days_12[days_12['mnth'] == 8]['dteday'], y = days_12[days_12['mnth'] == 8]['cnt'])\n",
    "plt.title('August Bike Rental Counts', fontdict = {'fontsize':20, 'fontweight':'bold'})\n",
    "plt.xlabel('Date', fontdict = {'fontsize':16, 'fontweight':'bold'})\n",
    "plt.ylabel('Count', fontdict = {'fontsize':16, 'fontweight':'bold'})"
   ]
  },
  {
   "cell_type": "markdown",
   "metadata": {},
   "source": [
    "July also has the smallest mean rental count out of June, July, and August. I'm curious now if higher temperatures increase rentals to a certain point and starts to go down if temperatures get too warm. Another explaination in drop in July rentals is that it's a summer month when kids and families might be doing other activities other than biking."
   ]
  },
  {
   "cell_type": "code",
   "execution_count": 23,
   "metadata": {},
   "outputs": [
    {
     "data": {
      "text/plain": [
       "mnth\n",
       "6    6761.000000\n",
       "7    6567.967742\n",
       "8    6919.451613\n",
       "Name: cnt, dtype: float64"
      ]
     },
     "execution_count": 23,
     "metadata": {},
     "output_type": "execute_result"
    }
   ],
   "source": [
    "days_12[(days_12['mnth'] == 6) | (days_12['mnth'] == 7) | (days_12['mnth'] == 8)].groupby('mnth')['cnt'].mean()"
   ]
  },
  {
   "cell_type": "code",
   "execution_count": 24,
   "metadata": {},
   "outputs": [
    {
     "data": {
      "text/plain": [
       "mnth\n",
       "6    0.629932\n",
       "7    0.697528\n",
       "8    0.647534\n",
       "Name: atemp, dtype: float64"
      ]
     },
     "execution_count": 24,
     "metadata": {},
     "output_type": "execute_result"
    }
   ],
   "source": [
    "days_12[(days_12['mnth'] == 6) | (days_12['mnth'] == 7) | (days_12['mnth'] == 8)].groupby('mnth')['atemp'].mean()"
   ]
  },
  {
   "cell_type": "markdown",
   "metadata": {},
   "source": [
    "There are some outliers present that might need to be addressed, especially the point with a zero count, but there's a clear relationship between temperature and rentals - higher temperatures lead to more rentals. "
   ]
  },
  {
   "cell_type": "code",
   "execution_count": 36,
   "metadata": {},
   "outputs": [
    {
     "data": {
      "text/plain": [
       "<matplotlib.text.Text at 0x11e7c5fd0>"
      ]
     },
     "execution_count": 36,
     "metadata": {},
     "output_type": "execute_result"
    },
    {
     "data": {
      "image/png": "[encoded data removed]",
      "text/plain": [
       "<matplotlib.figure.Figure at 0x11e184310>"
      ]
     },
     "metadata": {},
     "output_type": "display_data"
    }
   ],
   "source": [
    "plt.figure(figsize = (15, 10))\n",
    "sns.regplot(x = daysdf['atemp'], y = daysdf['cnt'])\n",
    "plt.title('Temperature vs. Bike Rental Count', fontdict = {'fontsize':20, 'fontweight':'bold'})\n",
    "plt.xlabel('Count', fontdict = {'fontsize':16, 'fontweight':'bold'})\n",
    "plt.ylabel('Normalized Temperature in Celsius', fontdict = {'fontsize':16, 'fontweight':'bold'})"
   ]
  },
  {
   "cell_type": "markdown",
   "metadata": {},
   "source": [
    "Looking at 2011, July appeared to have a heat wave too, which I confirmed with some quick research. However, we don't see the drop in rental count for the month like what happened in 2012. \n",
    "\n",
    "It would be nice to have more years represented in the data to see if temperature is a driving factor for bike rental counts or if there are other seasonal factors that we might need to take into consideration. "
   ]
  },
  {
   "cell_type": "code",
   "execution_count": 26,
   "metadata": {},
   "outputs": [
    {
     "data": {
      "text/plain": [
       "mnth\n",
       "6    4783.733333\n",
       "7    4559.387097\n",
       "8    4409.387097\n",
       "Name: cnt, dtype: float64"
      ]
     },
     "execution_count": 26,
     "metadata": {},
     "output_type": "execute_result"
    }
   ],
   "source": [
    "days_11 = daysdf[daysdf['yr'] == 0]\n",
    "days_11[(days_11['mnth'] == 6) | (days_11['mnth'] == 7) | (days_11['mnth'] == 8)].groupby('mnth')['cnt'].mean()"
   ]
  },
  {
   "cell_type": "code",
   "execution_count": 28,
   "metadata": {},
   "outputs": [
    {
     "data": {
      "text/plain": [
       "mnth\n",
       "6    0.646559\n",
       "7    0.710660\n",
       "8    0.655415\n",
       "Name: atemp, dtype: float64"
      ]
     },
     "execution_count": 28,
     "metadata": {},
     "output_type": "execute_result"
    }
   ],
   "source": [
    "days_11[(days_11['mnth'] == 6) | (days_11['mnth'] == 7) | (days_11['mnth'] == 8)].groupby('mnth')['atemp'].mean()"
   ]
  },
  {
   "cell_type": "code",
   "execution_count": null,
   "metadata": {},
   "outputs": [],
   "source": []
  }
 ],
 "metadata": {
  "kernelspec": {
   "display_name": "Python [conda env:python2]",
   "language": "python",
   "name": "conda-env-python2-py"
  },
  "language_info": {
   "codemirror_mode": {
    "name": "ipython",
    "version": 2
   },
   "file_extension": ".py",
   "mimetype": "text/x-python",
   "name": "python",
   "nbconvert_exporter": "python",
   "pygments_lexer": "ipython2",
   "version": "2.7.13"
  }
 },
 "nbformat": 4,
 "nbformat_minor": 2
}
